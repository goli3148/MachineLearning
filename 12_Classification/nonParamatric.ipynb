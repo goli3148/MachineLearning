{
 "cells": [
  {
   "cell_type": "code",
   "execution_count": 1,
   "metadata": {},
   "outputs": [],
   "source": [
    "import numpy as np\n",
    "from typing import List"
   ]
  },
  {
   "cell_type": "code",
   "execution_count": 152,
   "metadata": {},
   "outputs": [
    {
     "name": "stdout",
     "output_type": "stream",
     "text": [
      "(67, 60)\n",
      "(30, 60)\n",
      "(77, 60)\n",
      "(34, 60)\n"
     ]
    }
   ],
   "source": [
    "f = open('sonar.txt')\n",
    "Data = np.array(f.read().splitlines())\n",
    "X = np.zeros((len(Data), len(Data[0].split(','))-1))\n",
    "# y = np.empty((len(Data), ), dtype='str')\n",
    "for index in range(len(Data)):\n",
    "    X[index] = Data[index].split(',')[:-1]\n",
    "    # y[index] = Data[index].split(',')[-1]\n",
    "f.close()\n",
    "\n",
    "data_len = len(X)\n",
    "cutof_index = 97\n",
    "\n",
    "mine_train_start, mine_train_end = (0, int(.7 * cutof_index))\n",
    "mine_test_start, mine_test_end   = (mine_train_end, cutof_index)\n",
    "\n",
    "rock_len = data_len - 97\n",
    "rock_train_start, rock_train_end = (cutof_index, int(.7 * rock_len)+cutof_index)\n",
    "rock_test_start, rock_test_end = (rock_train_end, data_len)\n",
    "\n",
    "\n",
    "xTrainMine = np.array(X[mine_train_start:mine_train_end])\n",
    "xTestMine = np.array(X[mine_test_start:mine_test_end])\n",
    "xTrainRock = np.array(X[rock_train_start:rock_train_end])\n",
    "xTestRock = np.array(X[rock_test_start:rock_test_end])\n",
    "print(xTrainMine.shape)\n",
    "print(xTestMine.shape)\n",
    "print(xTrainRock.shape)\n",
    "print(xTestRock.shape)\n"
   ]
  },
  {
   "cell_type": "code",
   "execution_count": 149,
   "metadata": {},
   "outputs": [],
   "source": [
    "from numpy import typing\n",
    "def reShapingData(data:typing.NDArray):\n",
    "    for i in range(len(data)):\n",
    "        data[i] = np.array(data[i])\n",
    "    return data.reshape(-1, 1)\n",
    "xTrainMine = reShapingData(np.random.normal(loc=15, scale=5, size=100))\n",
    "xTestMine = reShapingData(np.random.normal(loc=15, scale=5, size=100))\n",
    "xTrainRock = reShapingData(np.random.normal(loc=5, scale=5, size=100))\n",
    "xTestRock = reShapingData(np.random.normal(loc=5, scale=5, size=100))\n"
   ]
  },
  {
   "cell_type": "code",
   "execution_count": 154,
   "metadata": {},
   "outputs": [
    {
     "data": {
      "text/html": [
       "<style>#sk-container-id-34 {color: black;}#sk-container-id-34 pre{padding: 0;}#sk-container-id-34 div.sk-toggleable {background-color: white;}#sk-container-id-34 label.sk-toggleable__label {cursor: pointer;display: block;width: 100%;margin-bottom: 0;padding: 0.3em;box-sizing: border-box;text-align: center;}#sk-container-id-34 label.sk-toggleable__label-arrow:before {content: \"▸\";float: left;margin-right: 0.25em;color: #696969;}#sk-container-id-34 label.sk-toggleable__label-arrow:hover:before {color: black;}#sk-container-id-34 div.sk-estimator:hover label.sk-toggleable__label-arrow:before {color: black;}#sk-container-id-34 div.sk-toggleable__content {max-height: 0;max-width: 0;overflow: hidden;text-align: left;background-color: #f0f8ff;}#sk-container-id-34 div.sk-toggleable__content pre {margin: 0.2em;color: black;border-radius: 0.25em;background-color: #f0f8ff;}#sk-container-id-34 input.sk-toggleable__control:checked~div.sk-toggleable__content {max-height: 200px;max-width: 100%;overflow: auto;}#sk-container-id-34 input.sk-toggleable__control:checked~label.sk-toggleable__label-arrow:before {content: \"▾\";}#sk-container-id-34 div.sk-estimator input.sk-toggleable__control:checked~label.sk-toggleable__label {background-color: #d4ebff;}#sk-container-id-34 div.sk-label input.sk-toggleable__control:checked~label.sk-toggleable__label {background-color: #d4ebff;}#sk-container-id-34 input.sk-hidden--visually {border: 0;clip: rect(1px 1px 1px 1px);clip: rect(1px, 1px, 1px, 1px);height: 1px;margin: -1px;overflow: hidden;padding: 0;position: absolute;width: 1px;}#sk-container-id-34 div.sk-estimator {font-family: monospace;background-color: #f0f8ff;border: 1px dotted black;border-radius: 0.25em;box-sizing: border-box;margin-bottom: 0.5em;}#sk-container-id-34 div.sk-estimator:hover {background-color: #d4ebff;}#sk-container-id-34 div.sk-parallel-item::after {content: \"\";width: 100%;border-bottom: 1px solid gray;flex-grow: 1;}#sk-container-id-34 div.sk-label:hover label.sk-toggleable__label {background-color: #d4ebff;}#sk-container-id-34 div.sk-serial::before {content: \"\";position: absolute;border-left: 1px solid gray;box-sizing: border-box;top: 0;bottom: 0;left: 50%;z-index: 0;}#sk-container-id-34 div.sk-serial {display: flex;flex-direction: column;align-items: center;background-color: white;padding-right: 0.2em;padding-left: 0.2em;position: relative;}#sk-container-id-34 div.sk-item {position: relative;z-index: 1;}#sk-container-id-34 div.sk-parallel {display: flex;align-items: stretch;justify-content: center;background-color: white;position: relative;}#sk-container-id-34 div.sk-item::before, #sk-container-id-34 div.sk-parallel-item::before {content: \"\";position: absolute;border-left: 1px solid gray;box-sizing: border-box;top: 0;bottom: 0;left: 50%;z-index: -1;}#sk-container-id-34 div.sk-parallel-item {display: flex;flex-direction: column;z-index: 1;position: relative;background-color: white;}#sk-container-id-34 div.sk-parallel-item:first-child::after {align-self: flex-end;width: 50%;}#sk-container-id-34 div.sk-parallel-item:last-child::after {align-self: flex-start;width: 50%;}#sk-container-id-34 div.sk-parallel-item:only-child::after {width: 0;}#sk-container-id-34 div.sk-dashed-wrapped {border: 1px dashed gray;margin: 0 0.4em 0.5em 0.4em;box-sizing: border-box;padding-bottom: 0.4em;background-color: white;}#sk-container-id-34 div.sk-label label {font-family: monospace;font-weight: bold;display: inline-block;line-height: 1.2em;}#sk-container-id-34 div.sk-label-container {text-align: center;}#sk-container-id-34 div.sk-container {/* jupyter's `normalize.less` sets `[hidden] { display: none; }` but bootstrap.min.css set `[hidden] { display: none !important; }` so we also need the `!important` here to be able to override the default hidden behavior on the sphinx rendered scikit-learn.org. See: https://github.com/scikit-learn/scikit-learn/issues/21755 */display: inline-block !important;position: relative;}#sk-container-id-34 div.sk-text-repr-fallback {display: none;}</style><div id=\"sk-container-id-34\" class=\"sk-top-container\"><div class=\"sk-text-repr-fallback\"><pre>KernelDensity(bandwidth=0.5)</pre><b>In a Jupyter environment, please rerun this cell to show the HTML representation or trust the notebook. <br />On GitHub, the HTML representation is unable to render, please try loading this page with nbviewer.org.</b></div><div class=\"sk-container\" hidden><div class=\"sk-item\"><div class=\"sk-estimator sk-toggleable\"><input class=\"sk-toggleable__control sk-hidden--visually\" id=\"sk-estimator-id-34\" type=\"checkbox\" checked><label for=\"sk-estimator-id-34\" class=\"sk-toggleable__label sk-toggleable__label-arrow\">KernelDensity</label><div class=\"sk-toggleable__content\"><pre>KernelDensity(bandwidth=0.5)</pre></div></div></div></div></div>"
      ],
      "text/plain": [
       "KernelDensity(bandwidth=0.5)"
      ]
     },
     "execution_count": 154,
     "metadata": {},
     "output_type": "execute_result"
    }
   ],
   "source": [
    "from math import exp\n",
    "from sklearn.neighbors import KernelDensity\n",
    "mine_model = KernelDensity(bandwidth=.5, kernel='gaussian')\n",
    "rock_model = KernelDensity(bandwidth=.5, kernel='gaussian')\n",
    "\n",
    "mine_model.fit(xTrainMine)\n",
    "rock_model.fit(xTrainRock)\n"
   ]
  },
  {
   "cell_type": "code",
   "execution_count": 155,
   "metadata": {},
   "outputs": [
    {
     "name": "stdout",
     "output_type": "stream",
     "text": [
      "0.43333333333333335\n",
      "0.38235294117647056\n"
     ]
    }
   ],
   "source": [
    "pro1 = np.exp(mine_model.score_samples(xTestMine))\n",
    "pro2 = np.exp(rock_model.score_samples(xTestMine))\n",
    "res = 0\n",
    "for i in range(len(pro1)):\n",
    "    if pro1[i] > pro2[i]:\n",
    "        res += 1\n",
    "print(res/len(pro1))\n",
    "\n",
    "pro1 = np.exp(mine_model.score_samples(xTestRock))\n",
    "pro2 = np.exp(rock_model.score_samples(xTestRock))\n",
    "res = 0\n",
    "for i in range(len(pro1)):\n",
    "    if pro1[i] < pro2[i]:\n",
    "        res += 1\n",
    "print(res/len(pro1))"
   ]
  }
 ],
 "metadata": {
  "kernelspec": {
   "display_name": ".venv",
   "language": "python",
   "name": "python3"
  },
  "language_info": {
   "codemirror_mode": {
    "name": "ipython",
    "version": 3
   },
   "file_extension": ".py",
   "mimetype": "text/x-python",
   "name": "python",
   "nbconvert_exporter": "python",
   "pygments_lexer": "ipython3",
   "version": "3.8.6rc1"
  }
 },
 "nbformat": 4,
 "nbformat_minor": 2
}
