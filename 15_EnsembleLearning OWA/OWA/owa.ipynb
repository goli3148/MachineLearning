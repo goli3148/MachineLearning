{
 "cells": [
  {
   "cell_type": "code",
   "execution_count": 123,
   "metadata": {},
   "outputs": [],
   "source": [
    "import numpy as np\n",
    "from sklearn.linear_model import LogisticRegression\n",
    "from sklearn.naive_bayes import MultinomialNB\n",
    "from sklearn.naive_bayes import GaussianNB\n",
    "from sklearn.neighbors import KNeighborsClassifier\n",
    "from sklearn.datasets import load_iris, load_wine, load_breast_cancer, load_digits\n",
    "from sklearn.model_selection import train_test_split\n",
    "from sklearn.metrics import accuracy_score\n",
    "from typing import List\n",
    "from numpy.typing import NDArray"
   ]
  },
  {
   "cell_type": "code",
   "execution_count": 124,
   "metadata": {},
   "outputs": [],
   "source": [
    "data = load_iris()\n",
    "x = data.data\n",
    "y = data.target\n",
    "X_train, X_test, y_train, y_test = train_test_split(x, y, test_size=.3)"
   ]
  },
  {
   "cell_type": "code",
   "execution_count": 125,
   "metadata": {},
   "outputs": [],
   "source": [
    "\n",
    "class OWA:\n",
    "    classifiers: List\n",
    "    classes: List\n",
    "    def __init__(self, classifiers) -> None:\n",
    "        self.classifiers = classifiers\n",
    "    \n",
    "    def fit(self, X, y):\n",
    "        self.classes = np.unique(y)\n",
    "        for c in self.classifiers:\n",
    "            c.fit(X, y)\n",
    "    \n",
    "    def DP(self, x_test, weights=[]):\n",
    "        weights = [1/len(self.classifiers) for _ in range(len(self.classifiers))] if not sum(weights)==1 or weights==[] else weights\n",
    "        dp = []\n",
    "        dpw = []\n",
    "        for c in self.classifiers:\n",
    "            dp.append(c.predict_proba(x_test))\n",
    "        dp = np.array(dp).reshape(len(self.classifiers), len(self.classes))\n",
    "        dpw = [weights @ dp.T[i] for i in range(len(self.classes))]\n",
    "        return dp, dpw\n",
    "    \n",
    "    def predict(self, datas:NDArray, weights=[]):\n",
    "        powa = []\n",
    "        for data in datas:\n",
    "            _, dpw=self.DP(data.reshape(1, -1), weights=weights)\n",
    "            powa.append(np.argmax(dpw))\n",
    "        return np.array(powa)\n",
    "    \n",
    "    def classifiers_predict(self, X_test):\n",
    "        p = []\n",
    "        for c in self.classifiers:\n",
    "            p.append(c.predict(X_test))\n",
    "        return p\n",
    "        "
   ]
  },
  {
   "cell_type": "code",
   "execution_count": 126,
   "metadata": {},
   "outputs": [
    {
     "name": "stdout",
     "output_type": "stream",
     "text": [
      "TESTING\n",
      "true value:0\n",
      "Decision profile:\n",
      "[[9.71678353e-01 2.83213920e-02 2.54676920e-07]\n",
      " [6.74281881e-01 1.94688696e-01 1.31029424e-01]\n",
      " [1.00000000e+00 0.00000000e+00 0.00000000e+00]\n",
      " [1.00000000e+00 2.79175514e-22 2.73780288e-27]]\n",
      "arg max of decision profile of row[9.71678353e-01 2.83213920e-02 2.54676920e-07]:0\n",
      "arg max of decision profile of row[0.67428188 0.1946887  0.13102942]:0\n",
      "arg max of decision profile of row[1. 0. 0.]:0\n",
      "arg max of decision profile of row[1.00000000e+00 2.79175514e-22 2.73780288e-27]:0\n",
      "decision profile product to weights:[0.911490058458147, 0.05575252199532582, 0.03275741954652735]\n",
      "arg max of decision profile producted:0\n",
      "TESTING\n",
      "0.9333333333333333\n",
      "0.9333333333333333\n",
      "0.7777777777777778\n",
      "0.9777777777777777\n",
      "0.9111111111111111\n"
     ]
    }
   ],
   "source": [
    "from numpy import argmax\n",
    "\n",
    "\n",
    "classifiers = [LogisticRegression(max_iter=10000), MultinomialNB(), KNeighborsClassifier(), GaussianNB()]\n",
    "owa = OWA(classifiers)\n",
    "owa.fit(X_train, y_train)\n",
    "\n",
    "print(\"TESTING\")\n",
    "dp, dpw = owa.DP(X_test[0].reshape(1, -1))\n",
    "print(f\"true value:{y_test[0]}\")\n",
    "print(f\"Decision profile:\\n{dp}\")\n",
    "for row in dp:\n",
    "    print(f\"arg max of decision profile of row{row}:{np.argmax(row)}\")\n",
    "print(f\"decision profile product to weights:{dpw}\")\n",
    "print(f\"arg max of decision profile producted:{np.argmax(dpw)}\")\n",
    "print(\"TESTING\")\n",
    "\n",
    "pre_owa = owa.predict(datas=X_test)\n",
    "print(accuracy_score(y_test, pre_owa))\n",
    "pre_cls = owa.classifiers_predict(X_test)\n",
    "for i in pre_cls:\n",
    "    print(accuracy_score(y_test, i))"
   ]
  }
 ],
 "metadata": {
  "kernelspec": {
   "display_name": ".venv",
   "language": "python",
   "name": "python3"
  },
  "language_info": {
   "codemirror_mode": {
    "name": "ipython",
    "version": 3
   },
   "file_extension": ".py",
   "mimetype": "text/x-python",
   "name": "python",
   "nbconvert_exporter": "python",
   "pygments_lexer": "ipython3",
   "version": "3.8.6"
  }
 },
 "nbformat": 4,
 "nbformat_minor": 2
}
