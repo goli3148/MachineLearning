{
 "cells": [
  {
   "cell_type": "code",
   "execution_count": 115,
   "metadata": {},
   "outputs": [],
   "source": [
    "from sklearn.model_selection import train_test_split\n",
    "# from sklearn.manifold import LocallyLinearEmbedding\n",
    "from sklearn.datasets import load_iris, load_digits\n",
    "import matplotlib.pyplot as plt\n",
    "import numpy as np\n",
    "from numpy.typing import NDArray"
   ]
  },
  {
   "cell_type": "code",
   "execution_count": 116,
   "metadata": {},
   "outputs": [],
   "source": [
    "data = load_iris()\n",
    "x = data.data\n",
    "y = data.target\n"
   ]
  },
  {
   "cell_type": "code",
   "execution_count": 117,
   "metadata": {},
   "outputs": [],
   "source": [
    "# # Create and fit LLE model\n",
    "# lle = LocallyLinearEmbedding(n_neighbors=20, n_components=2)\n",
    "# X_transformed = lle.fit_transform(x)\n",
    "# print(X_transformed.shape)\n",
    "\n",
    "# # Visualize the results\n",
    "# plt.scatter(X_transformed[:, 0], X_transformed[:, 1], c=y)\n",
    "# plt.title('LLE Projection of Iris Dataset')\n",
    "# plt.xlabel('Component 1')\n",
    "# plt.ylabel('Component 2')\n",
    "# plt.show()"
   ]
  },
  {
   "cell_type": "markdown",
   "metadata": {},
   "source": [
    "<div class=\"markdown prose w-full break-words dark:prose-invert dark\"><p>The \"Singular matrix\" error typically occurs when you try to compute the inverse of a singular or nearly singular matrix. In the context of Locally Linear Embedding (LLE) or similar algorithms, it often means that the local neighborhood for a particular point is not diverse enough, leading to a poorly conditioned matrix.</p><p>To address this issue, you can add a small regularization term to the diagonal of the matrix <code>G</code> before computing the inverse. This regularization helps stabilize the inversion process and avoid singularities. The modified line would look like this:</p><pre><div class=\"bg-black rounded-md\"><div class=\"flex items-center relative text-gray-200 bg-gray-800 dark:bg-token-surface-primary px-4 py-2 text-xs font-sans justify-between rounded-t-md\"></div><div class=\"p-4 overflow-y-auto\"><code class=\"!whitespace-pre hljs language-python\">G_inv = np.linalg.inv(G + <span class=\"hljs-number\">1e-4</span> * np.eye(G.shape[<span class=\"hljs-number\">0</span>]))\n",
    "</code></div></div></pre><p>Here, <code>1e-4</code> is a small value that you can adjust based on your specific dataset and requirements.</p><p>Feel free to experiment with different values for the regularization term (e.g., <code>1e-4</code>) to find a suitable value for your specific dataset. Adjusting this value can help balance the trade-off between stability and the influence of the regularization term.</p></div>"
   ]
  },
  {
   "cell_type": "code",
   "execution_count": 118,
   "metadata": {},
   "outputs": [],
   "source": [
    "# LLE Implementation\n",
    "# data is a matrix of n*d : n data row and d coloumn for every feature\n",
    "\n",
    "\n",
    "class LocallyLinearEmbedding:\n",
    "    n_component: int\n",
    "    n_neighbours: int\n",
    "    data: NDArray\n",
    "    weghits: NDArray\n",
    "    \n",
    "    def __init__(self, n_component, n_neighbours) -> None:\n",
    "        self.n_component = n_component\n",
    "        self.n_neighbours = n_neighbours\n",
    "        \n",
    "    def fit_transform(self, data):\n",
    "        self.data = data\n",
    "        self.LinearReconustruction()\n",
    "        return self.LinearEmbedding()\n",
    "        \n",
    "    \n",
    "    def LinearEmbedding(self):\n",
    "        w_size = self.weghits.shape[0]\n",
    "        M = np.eye(w_size) - self.weghits\n",
    "        M = M.T @ M\n",
    "        eigenvalues, eigenvectors = np.linalg.eig(M)\n",
    "        indices = np.argsort(eigenvalues)[1:self.n_component+1]\n",
    "        Y = eigenvectors[:, indices]\n",
    "        return Y\n",
    "    \n",
    "    def LinearReconustruction(self):\n",
    "        w = [] # wight is a mtrix with n*n_neighbours size.\n",
    "        ones = np.ones(self.n_neighbours).reshape(-1,1)\n",
    "        for i in range(self.data.shape[0]):\n",
    "            d = self.data[i].reshape(-1, 1)\n",
    "            knn, knn_i = self.KNN(i)\n",
    "            G = d @ ones.T - knn.T\n",
    "            G = G.T @ G\n",
    "            G_inv = np.linalg.inv(G + 1e-4 * np.eye(G.shape[0]))\n",
    "            w_i = ((G_inv @ ones)/(ones.T @ G_inv @ ones)).squeeze()\n",
    "            w_i = self.ReconstructWeights(w_i, knn_i)\n",
    "            w.append(w_i)\n",
    "        self.weghits = np.array(w)\n",
    "        return w\n",
    "    \n",
    "    def ReconstructWeights(self, w, knn_i):\n",
    "        res = np.zeros((self.data.shape[0]))\n",
    "        for i in range(res.shape[0]):\n",
    "            for index in range(len(knn_i)):\n",
    "                if knn_i[index] == i:\n",
    "                    res[i] = w[index]\n",
    "                    break\n",
    "        return res\n",
    "        \n",
    "    def KNN(self, index):\n",
    "        neighbors_t = {}\n",
    "        for i in range(self.data.shape[0]):\n",
    "            if not i == index:\n",
    "                neighbors_t[i] = np.linalg.norm(self.data[i] - self.data[index])\n",
    "                # print(f'{self.data[i]}:{neighbors_t[i]}')\n",
    "        neighbors_t = dict(sorted(neighbors_t.items(), key=lambda item: item[1]))\n",
    "        neighbors = []\n",
    "        neighbors_i = []\n",
    "        for index,key in enumerate(neighbors_t):\n",
    "            neighbors.append(self.data[key]) # data of key\n",
    "            neighbors_i.append(key) # key itself\n",
    "            if index + 1 == self.n_neighbours:\n",
    "                break\n",
    "        return np.array(neighbors), np.array(neighbors_i)"
   ]
  },
  {
   "cell_type": "code",
   "execution_count": 119,
   "metadata": {},
   "outputs": [],
   "source": [
    "# LLE = LocallyLinearEmbedding(2, 3)\n",
    "# x_LLE = [4, 5, 10, 4, 3, 11, 14 , 8, 10, 12]\n",
    "# y_LLE = [21, 19, 24, 17, 16, 25, 24, 22, 21, 21]\n",
    "# classes = [0, 0, 1, 0, 0, 1, 1, 0, 1, 1]\n",
    "# selected = 7\n",
    "# LLE.data = np.column_stack((x_LLE,y_LLE))\n",
    "# print(LLE.data[selected])\n",
    "# n, _=LLE.KNN(selected)\n",
    "# for i in n:\n",
    "#     print(i)\n",
    "#     plt.scatter(i[0], i[1], c='green', alpha=.8, zorder=100, label='neighbours')\n",
    "# plt.scatter(LLE.data[selected][0], LLE.data[selected][1], c='red', zorder=100, label='selected')\n",
    "# plt.scatter(x_LLE, y_LLE, c=classes, label='all points')\n",
    "# plt.legend()\n",
    "# plt.show()"
   ]
  },
  {
   "cell_type": "code",
   "execution_count": 120,
   "metadata": {},
   "outputs": [
    {
     "name": "stdout",
     "output_type": "stream",
     "text": [
      "(150, 4)\n",
      "(150, 2)\n"
     ]
    },
    {
     "data": {
      "image/png": "[encoded data removed]",
      "text/plain": [
       "<Figure size 640x480 with 1 Axes>"
      ]
     },
     "metadata": {},
     "output_type": "display_data"
    }
   ],
   "source": [
    "X_transformed = LocallyLinearEmbedding(2, 6).fit_transform(x)\n",
    "\n",
    "print(x.shape)\n",
    "print(X_transformed.shape)\n",
    "\n",
    "# Visualize the results\n",
    "plt.scatter(X_transformed[:, 0], X_transformed[:, 1], c=y)\n",
    "plt.title('LLE Projection of Iris Dataset')\n",
    "plt.xlabel('Component 1')\n",
    "plt.ylabel('Component 2')\n",
    "plt.show()"
   ]
  }
 ],
 "metadata": {
  "kernelspec": {
   "display_name": ".venv",
   "language": "python",
   "name": "python3"
  },
  "language_info": {
   "codemirror_mode": {
    "name": "ipython",
    "version": 3
   },
   "file_extension": ".py",
   "mimetype": "text/x-python",
   "name": "python",
   "nbconvert_exporter": "python",
   "pygments_lexer": "ipython3",
   "version": "3.8.6"
  }
 },
 "nbformat": 4,
 "nbformat_minor": 2
}
