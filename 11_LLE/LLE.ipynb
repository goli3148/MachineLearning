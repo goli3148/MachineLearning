{
 "cells": [
  {
   "cell_type": "code",
<<<<<<< HEAD
   "execution_count": 82,
=======
   "execution_count": 2,
>>>>>>> 8d1f0f5a4c15060132d3969148b9a3cacb711900
   "metadata": {},
   "outputs": [],
   "source": [
    "from sklearn.model_selection import train_test_split\n",
    "# from sklearn.manifold import LocallyLinearEmbedding\n",
    "from sklearn.datasets import load_iris, load_digits\n",
    "import matplotlib.pyplot as plt\n",
    "import numpy as np\n",
    "from numpy.typing import NDArray\n",
    "from sklearn.metrics import accuracy_score\n",
    "from sklearn import svm\n",
    "from sklearn.naive_bayes import GaussianNB\n"
   ]
  },
  {
   "cell_type": "code",
<<<<<<< HEAD
   "execution_count": 83,
=======
   "execution_count": 3,
>>>>>>> 8d1f0f5a4c15060132d3969148b9a3cacb711900
   "metadata": {},
   "outputs": [],
   "source": [
    "data = load_iris()\n",
    "x = data.data\n",
    "y = data.target\n",
    "x_train, x_test, y_train, y_test = train_test_split(x, y, test_size=0.2, random_state=42)"
   ]
  },
  {
   "cell_type": "code",
<<<<<<< HEAD
   "execution_count": 84,
=======
   "execution_count": 4,
>>>>>>> 8d1f0f5a4c15060132d3969148b9a3cacb711900
   "metadata": {},
   "outputs": [],
   "source": [
    "# # Create and fit LLE model\n",
    "# lle = LocallyLinearEmbedding(n_neighbors=20, n_components=2)\n",
    "# X_transformed = lle.fit_transform(x)\n",
    "# print(X_transformed.shape)\n",
    "\n",
    "# # Visualize the results\n",
    "# plt.scatter(X_transformed[:, 0], X_transformed[:, 1], c=y)\n",
    "# plt.title('LLE Projection of Iris Dataset')\n",
    "# plt.xlabel('Component 1')\n",
    "# plt.ylabel('Component 2')\n",
    "# plt.show()"
   ]
  },
  {
   "cell_type": "markdown",
   "metadata": {},
   "source": [
    "<div class=\"markdown prose w-full break-words dark:prose-invert dark\"><p>The \"Singular matrix\" error typically occurs when you try to compute the inverse of a singular or nearly singular matrix. In the context of Locally Linear Embedding (LLE) or similar algorithms, it often means that the local neighborhood for a particular point is not diverse enough, leading to a poorly conditioned matrix.</p><p>To address this issue, you can add a small regularization term to the diagonal of the matrix <code>G</code> before computing the inverse. This regularization helps stabilize the inversion process and avoid singularities. The modified line would look like this:</p><pre><div class=\"bg-black rounded-md\"><div class=\"flex items-center relative text-gray-200 bg-gray-800 dark:bg-token-surface-primary px-4 py-2 text-xs font-sans justify-between rounded-t-md\"></div><div class=\"p-4 overflow-y-auto\"><code class=\"!whitespace-pre hljs language-python\">G_inv = np.linalg.inv(G + <span class=\"hljs-number\">1e-4</span> * np.eye(G.shape[<span class=\"hljs-number\">0</span>]))\n",
    "</code></div></div></pre><p>Here, <code>1e-4</code> is a small value that you can adjust based on your specific dataset and requirements.</p><p>Feel free to experiment with different values for the regularization term (e.g., <code>1e-4</code>) to find a suitable value for your specific dataset. Adjusting this value can help balance the trade-off between stability and the influence of the regularization term.</p></div>"
   ]
  },
  {
   "cell_type": "code",
<<<<<<< HEAD
   "execution_count": 85,
=======
   "execution_count": 5,
>>>>>>> 8d1f0f5a4c15060132d3969148b9a3cacb711900
   "metadata": {},
   "outputs": [],
   "source": [
    "class LocallyLinearEmbedding:\n",
    "    n_component: int\n",
    "    n_neighbours: int\n",
    "    data: np.ndarray\n",
    "    weghits: np.ndarray\n",
    "    eigenvectors: np.ndarray  # Store the eigenvectors from fit_transform\n",
    "    \n",
    "    def __init__(self, n_component, n_neighbours) -> None:\n",
    "        self.n_component = n_component\n",
    "        self.n_neighbours = n_neighbours\n",
    "        \n",
    "    def fit_transform(self, data):\n",
    "        self.data = data\n",
    "        self.LinearReconustruction()\n",
    "        return self.LinearEmbedding()\n",
    "    \n",
    "    def LinearEmbedding(self):\n",
    "        w_size = self.weghits.shape[0]\n",
    "        M = np.eye(w_size) - self.weghits\n",
    "        M = M.T @ M\n",
    "        eigenvalues, eigenvectors = np.linalg.eig(M)\n",
    "        indices = np.argsort(eigenvalues)[1:self.n_component+1]\n",
    "        self.eigenvectors = np.real(eigenvectors[:, indices])  \n",
    "        Y = self.eigenvectors\n",
    "        return Y\n",
    "    \n",
    "    def LinearReconustruction(self):\n",
    "        w = []  # weights matrix with n*n_neighbours size\n",
    "        ones = np.ones(self.n_neighbours).reshape(-1, 1)\n",
    "        for i in range(self.data.shape[0]):\n",
    "            d = self.data[i].reshape(-1, 1)\n",
    "            knn, knn_i = self.KNN(i)\n",
    "            G = d @ ones.T - knn.T\n",
    "            G = G.T @ G\n",
    "            G_inv = np.linalg.inv(G + 1e-4 * np.eye(G.shape[0]))\n",
    "            w_i = ((G_inv @ ones) / (ones.T @ G_inv @ ones)).squeeze()\n",
    "            w_i = self.ReconstructWeights(w_i, knn_i)\n",
    "            w.append(w_i)\n",
    "        self.weghits = np.array(w)\n",
    "        return w\n",
    "    \n",
    "    def ReconstructWeights(self, w, knn_i):\n",
    "        res = np.zeros((self.data.shape[0]))\n",
    "        for i in range(res.shape[0]):\n",
    "            for index in range(len(knn_i)):\n",
    "                if knn_i[index] == i:\n",
    "                    res[i] = w[index]\n",
    "                    break\n",
    "        return res\n",
    "    \n",
    "    def KNN(self, index):\n",
    "        neighbors_t = {}\n",
    "        for i in range(self.data.shape[0]):\n",
    "            if not i == index:\n",
    "                neighbors_t[i] = self.distance(self.data[i], self.data[index])\n",
    "        neighbors_t = dict(sorted(neighbors_t.items(), key=lambda item: item[1]))\n",
    "        neighbors = []\n",
    "        neighbors_i = []\n",
    "        for index, key in enumerate(neighbors_t):\n",
    "            neighbors.append(self.data[key])  # data of key\n",
    "            neighbors_i.append(key)  # key itself\n",
    "            if index + 1 == self.n_neighbours:\n",
    "                break\n",
    "        return np.array(neighbors), np.array(neighbors_i)\n",
    "    \n",
    "    def transform(self, new_data):\n",
    "        # Step 1: Find the KNN of the new data in the original data set\n",
    "        w = []\n",
    "        ones = np.ones(self.n_neighbours).reshape(-1, 1)\n",
    "        for d in new_data:\n",
    "            d = d.reshape(-1, 1)\n",
    "            knn, knn_i = self.KNN_new_point(d)\n",
    "            G = d @ ones.T - knn.T\n",
    "            G = G.T @ G\n",
    "            G_inv = np.linalg.inv(G + 1e-4 * np.eye(G.shape[0]))\n",
    "            w_i = ((G_inv @ ones) / (ones.T @ G_inv @ ones)).squeeze()\n",
    "            w_i = self.ReconstructWeights(w_i, knn_i)\n",
    "            w.append(w_i)\n",
    "        w_new = np.array(w)\n",
    "        \n",
    "        # Step 2: Use the eigenvectors from fit_transform to project the new data\n",
    "        Y_new = w_new @ self.eigenvectors\n",
    "        return Y_new\n",
    "    \n",
    "    def KNN_new_point(self, point):\n",
    "        neighbors_t = {}\n",
    "        for i in range(self.data.shape[0]):\n",
    "            neighbors_t[i] = self.distance(self.data[i], point.squeeze())\n",
    "        neighbors_t = dict(sorted(neighbors_t.items(), key=lambda item: item[1]))\n",
    "        neighbors = []\n",
    "        neighbors_i = []\n",
    "        for index, key in enumerate(neighbors_t):\n",
    "            neighbors.append(self.data[key])  # data of key\n",
    "            neighbors_i.append(key)  # key itself\n",
    "            if index + 1 == self.n_neighbours:\n",
    "                break\n",
    "        return np.array(neighbors), np.array(neighbors_i)\n",
    "    \n",
    "    def distance(self, data1, data2, sigma=0.001):\n",
    "        # return np.linalg.norm(data1 - data2)\n",
    "        return np.exp(-np.linalg.norm(data1 - data2)**2 / (2 * sigma**2))\n",
    "    \n",
    "    "
   ]
  },
  {
   "cell_type": "code",
<<<<<<< HEAD
   "execution_count": 86,
=======
   "execution_count": 6,
>>>>>>> 8d1f0f5a4c15060132d3969148b9a3cacb711900
   "metadata": {},
   "outputs": [],
   "source": [
    "# LLE = LocallyLinearEmbedding(2, 3)\n",
    "# x_LLE = [4, 5, 10, 4, 3, 11, 14 , 8, 10, 12]\n",
    "# y_LLE = [21, 19, 24, 17, 16, 25, 24, 22, 21, 21]\n",
    "# classes = [0, 0, 1, 0, 0, 1, 1, 0, 1, 1]\n",
    "# selected = 7\n",
    "# LLE.data = np.column_stack((x_LLE,y_LLE))\n",
    "# print(LLE.data[selected])\n",
    "# n, _=LLE.KNN(selected)\n",
    "# for i in n:\n",
    "#     print(i)\n",
    "#     plt.scatter(i[0], i[1], c='green', alpha=.8, zorder=100, label='neighbours')\n",
    "# plt.scatter(LLE.data[selected][0], LLE.data[selected][1], c='red', zorder=100, label='selected')\n",
    "# plt.scatter(x_LLE, y_LLE, c=classes, label='all points')\n",
    "# plt.legend()\n",
    "# plt.show()"
   ]
  },
  {
   "cell_type": "code",
<<<<<<< HEAD
   "execution_count": 87,
=======
   "execution_count": 7,
>>>>>>> 8d1f0f5a4c15060132d3969148b9a3cacb711900
   "metadata": {},
   "outputs": [
    {
     "name": "stdout",
     "output_type": "stream",
     "text": [
      "0.95\n",
      "0.9666666666666667\n"
     ]
<<<<<<< HEAD
=======
    },
    {
     "data": {
      "image/png": "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",
      "text/plain": [
       "<Figure size 640x480 with 1 Axes>"
      ]
     },
     "metadata": {},
     "output_type": "display_data"
>>>>>>> 8d1f0f5a4c15060132d3969148b9a3cacb711900
    }
   ],
   "source": [
    "lle = LocallyLinearEmbedding(n_component=3, n_neighbours=5)\n",
    "x_new_train = lle.fit_transform(x_train)\n",
    "x_new_test = lle.transform(x_test)\n",
    "\n",
    "\n",
    "gnb = GaussianNB()\n",
    "gnb.fit(x_new_train, y_train)\n",
    "\n",
    "y_pred_train = gnb.predict(x_new_train)\n",
    "y_pred_test = gnb.predict(x_new_test)\n",
    "print(accuracy_score(y_train, y_pred_train))\n",
    "print(accuracy_score(y_test, y_pred_test))"
   ]
  },
  {
   "cell_type": "code",
   "execution_count": 88,
   "metadata": {},
   "outputs": [
    {
     "name": "stdout",
     "output_type": "stream",
     "text": [
      "Trustworthiness: 0.9506696428571428\n"
     ]
    }
   ],
   "source": [
    "from sklearn.manifold import trustworthiness\n",
    "\n",
    "def calculate_trustworthiness(X_high, X_low, n_neighbors=5):\n",
    "    score = trustworthiness(X_high, X_low, n_neighbors=n_neighbors)\n",
    "    return score\n",
    "\n",
    "# Example usage:\n",
    "trustworthiness_score = calculate_trustworthiness(x_train, x_new_train)\n",
    "print(f\"Trustworthiness: {trustworthiness_score}\")\n"
   ]
  },
  {
   "cell_type": "code",
   "execution_count": 89,
   "metadata": {},
   "outputs": [
    {
     "name": "stdout",
     "output_type": "stream",
     "text": [
      "Residual Variance: 0.9297717828846278\n"
     ]
    }
   ],
   "source": [
    "import numpy as np\n",
    "from sklearn.metrics import pairwise_distances\n",
    "\n",
    "def residual_variance(X_high, X_low):\n",
    "    # Calculate pairwise distances in high-dimensional and low-dimensional spaces\n",
    "    D_high = pairwise_distances(X_high)\n",
    "    D_low = pairwise_distances(X_low)\n",
    "\n",
    "    # Flatten the distance matrices\n",
    "    D_high_flat = D_high.flatten()\n",
    "    D_low_flat = D_low.flatten()\n",
    "\n",
    "    # Calculate the residual variance\n",
    "    variance_high = np.var(D_high_flat)\n",
    "    variance_diff = np.var(D_high_flat - D_low_flat)\n",
    "    residual_variance = variance_diff / variance_high\n",
    "\n",
    "    return residual_variance\n",
    "\n",
    "# Example usage:\n",
    "# X_high is the original high-dimensional data\n",
    "# X_low is the LLE-embedded data\n",
    "residual_variance_score = residual_variance(x_train, x_new_train)\n",
    "print(f\"Residual Variance: {residual_variance_score}\")\n"
   ]
  },
  {
   "cell_type": "code",
   "execution_count": 90,
   "metadata": {},
   "outputs": [
    {
     "name": "stdout",
     "output_type": "stream",
     "text": [
      "Continuity: 0.51\n"
     ]
    }
   ],
   "source": [
    "from sklearn.neighbors import NearestNeighbors\n",
    "\n",
    "def calculate_continuity(X_high, X_low, n_neighbors=5):\n",
    "    nn_high = NearestNeighbors(n_neighbors=n_neighbors).fit(X_high)\n",
    "    nn_low = NearestNeighbors(n_neighbors=n_neighbors).fit(X_low)\n",
    "\n",
    "    high_neighbors = nn_high.kneighbors(return_distance=False)\n",
    "    low_neighbors = nn_low.kneighbors(return_distance=False)\n",
    "\n",
    "    overlap = 0\n",
    "    for i in range(X_high.shape[0]):\n",
    "        overlap += len(np.intersect1d(high_neighbors[i], low_neighbors[i]))\n",
    "\n",
    "    continuity = overlap / (X_high.shape[0] * n_neighbors)\n",
    "    return continuity\n",
    "\n",
    "# Example usage:\n",
    "continuity_score = calculate_continuity(x_train, x_new_train)\n",
    "print(f\"Continuity: {continuity_score}\")\n"
   ]
  },
  {
   "cell_type": "code",
   "execution_count": 91,
   "metadata": {},
   "outputs": [
    {
     "name": "stdout",
     "output_type": "stream",
     "text": [
      "Stress: 0.8691021885828404\n"
     ]
    }
   ],
   "source": [
    "def calculate_stress(X_high, X_low):\n",
    "    D_high = pairwise_distances(X_high)\n",
    "    D_low = pairwise_distances(X_low)\n",
    "\n",
    "    # Compute the stress as sum of squared differences of distances\n",
    "    stress = np.sum((D_high - D_low)**2) / np.sum(D_high**2)\n",
    "    return stress\n",
    "\n",
    "# Example usage:\n",
    "stress_score = calculate_stress(x_train, x_new_train)\n",
    "print(f\"Stress: {stress_score}\")\n"
   ]
  }
 ],
 "metadata": {
  "kernelspec": {
   "display_name": ".venv",
   "language": "python",
   "name": "python3"
  },
  "language_info": {
   "codemirror_mode": {
    "name": "ipython",
    "version": 3
   },
   "file_extension": ".py",
   "mimetype": "text/x-python",
   "name": "python",
   "nbconvert_exporter": "python",
   "pygments_lexer": "ipython3",
<<<<<<< HEAD
   "version": "3.10.11"
=======
   "version": "3.12.5"
>>>>>>> 8d1f0f5a4c15060132d3969148b9a3cacb711900
  }
 },
 "nbformat": 4,
 "nbformat_minor": 2
}
