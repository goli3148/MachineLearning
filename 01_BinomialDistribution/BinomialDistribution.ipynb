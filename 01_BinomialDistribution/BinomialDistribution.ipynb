{
 "cells": [
  {
   "cell_type": "code",
   "execution_count": 1,
   "metadata": {},
   "outputs": [
    {
     "name": "stdout",
     "output_type": "stream",
     "text": [
      "Total Success: 25\n",
      "Mean=30.000, Variance=21.000\n",
      "P of 10 success: 0.000%\n",
      "P of 20 success: 0.758%\n",
      "P of 30 success: 8.678%\n",
      "P of 40 success: 0.849%\n",
      "P of 50 success: 0.001%\n",
      "P of 60 success: 0.000%\n",
      "P of 70 success: 0.000%\n",
      "P of 80 success: 0.000%\n",
      "P of 90 success: 0.000%\n",
      "P of 100 success: 0.000%\n"
     ]
    }
   ],
   "source": [
    "# example of simulating a binomial process and counting success\n",
    "def binomail_dist():\n",
    "    from numpy.random import binomial\n",
    "    # define the parameters of the distribution\n",
    "    p = 0.3\n",
    "    k = 100\n",
    "    # run a single simulation\n",
    "    success = binomial(k, p)\n",
    "    print('Total Success: %d' % success)\n",
    "\n",
    "# calculate moments of a binomial distribution\n",
    "def binomail_dist_2():\n",
    "    from scipy.stats import binom\n",
    "    # define the parameters of the distribution\n",
    "    p = 0.3\n",
    "    k = 100\n",
    "    # calculate moments\n",
    "    mean, var, _, _ = binom.stats(k, p, moments='mvsk')\n",
    "    print('Mean=%.3f, Variance=%.3f' % (mean, var))\n",
    "\n",
    "# example of using the pmf for the binomial distribution\n",
    "def binomail_dist_pmf():\n",
    "    from scipy.stats import binom\n",
    "    # define the parameters of the distribution\n",
    "    p = 0.3\n",
    "    k = 100\n",
    "    # define the distribution\n",
    "    dist = binom(k, p)\n",
    "    # calculate the probability of n successes\n",
    "    for n in range(10, 110, 10):\n",
    "        print('P of %d success: %.3f%%' % (n, dist.pmf(n)*100))\n",
    "\n",
    "binomail_dist()\n",
    "binomail_dist_2()\n",
    "binomail_dist_pmf()"
   ]
  }
 ],
 "metadata": {
  "kernelspec": {
   "display_name": ".venv",
   "language": "python",
   "name": "python3"
  },
  "language_info": {
   "codemirror_mode": {
    "name": "ipython",
    "version": 3
   },
   "file_extension": ".py",
   "mimetype": "text/x-python",
   "name": "python",
   "nbconvert_exporter": "python",
   "pygments_lexer": "ipython3",
   "version": "3.10.12"
  }
 },
 "nbformat": 4,
 "nbformat_minor": 2
}
