{
 "cells": [
  {
   "cell_type": "code",
   "execution_count": 64,
   "metadata": {},
   "outputs": [],
   "source": [
    "import numpy as np\n",
    "\n",
    "\n",
    "def eclidean_distance(point1, point2):\n",
    "    return np.sqrt(np.sum(np.power(point1-point2, 2)))\n",
    "def mse(point1, point2):\n",
    "    return np.sum((point1, point2)) ** 2\n",
    "\n",
    "def distance(cluster1,cluster2,type_=mse):\n",
    "    return type_(cluster1, cluster2)\n",
    "\n",
    "def min_distance(arr1, arr2, X):\n",
    "    min_dist = float('inf')\n",
    "    \n",
    "    for idx1 in arr1:\n",
    "        for idx2 in arr2:\n",
    "            dist = np.linalg.norm(X[idx1] - X[idx2])\n",
    "            if dist < min_dist:\n",
    "                min_dist = dist\n",
    "    \n",
    "    return min_dist\n",
    "\n",
    "def distance_mat(clusters, data):\n",
    "    cluster_len = len(clusters)\n",
    "    dist_mat = np.zeros((cluster_len, cluster_len))\n",
    "    for i1 in range(cluster_len):\n",
    "        for i2 in range(cluster_len):\n",
    "            if i2 > i1:\n",
    "                dist_mat[i1, i2] = min_distance(clusters[i1], clusters[i2], data)\n",
    "            else : \n",
    "                dist_mat[i1, i2] = np.inf\n",
    "    return dist_mat\n",
    "\n",
    "def min_matrix(matrix):\n",
    "    min_index = np.argmin(matrix)\n",
    "    _, cols = matrix.shape\n",
    "    return min_index // cols, min_index % cols\n",
    "    \n",
    "def linkage(clusters, data, num_clusters):\n",
    "    for i in range(num_clusters):\n",
    "        print(clusters)\n",
    "        dist_mat = distance_mat(clusters, data)\n",
    "        i_min, j_min = min_matrix(dist_mat)\n",
    "        clusters[i_min] = clusters[i_min] + clusters[j_min]\n",
    "        clusters.pop(j_min)\n",
    "        print(dist_mat)"
   ]
  },
  {
   "cell_type": "code",
   "execution_count": 57,
   "metadata": {},
   "outputs": [],
   "source": [
    "from sklearn.datasets import make_blobs\n",
    "\n",
    "num_clusters = 1\n",
    "num_samples = 3\n",
    "X, y = make_blobs(n_samples=num_samples, centers=num_clusters, cluster_std=2, random_state=42)\n",
    "X += 10"
   ]
  },
  {
   "cell_type": "code",
   "execution_count": 67,
   "metadata": {},
   "outputs": [
    {
     "name": "stdout",
     "output_type": "stream",
     "text": [
      "[[0], [1], [2], [3], [4]]\n",
      "[[       inf 4.12310563 4.47213595 5.65685425 6.06217783]\n",
      " [       inf        inf 5.38516481 5.         5.54526825]\n",
      " [       inf        inf        inf 2.         2.17944947]\n",
      " [       inf        inf        inf        inf 0.8660254 ]\n",
      " [       inf        inf        inf        inf        inf]]\n",
      "[[0], [1], [2], [3, 4]]\n",
      "[[       inf 4.12310563 4.47213595 5.65685425]\n",
      " [       inf        inf 5.38516481 5.        ]\n",
      " [       inf        inf        inf 2.        ]\n",
      " [       inf        inf        inf        inf]]\n",
      "[[0], [1], [2, 3, 4]]\n",
      "[[       inf 4.12310563 4.47213595]\n",
      " [       inf        inf 5.        ]\n",
      " [       inf        inf        inf]]\n",
      "[[0, 1], [2, 3, 4]]\n",
      "[[       inf 4.47213595]\n",
      " [       inf        inf]]\n",
      "[[0, 1, 2, 3, 4]]\n",
      "[[inf]]\n"
     ]
    }
   ],
   "source": [
    "X = [\n",
    "    [4, 4, 1, 1],\n",
    "    [3, 0, 1, 1],\n",
    "    [8, 2, 1, 1],\n",
    "    [8, 0, 1, 1],\n",
    "    [8.5, 0, .5, .5]\n",
    "]\n",
    "clusters = [\n",
    "    [0], [1], [2], [3], [4]\n",
    "]\n",
    "linkage(clusters, np.asarray(X), 5)"
   ]
  }
 ],
 "metadata": {
  "kernelspec": {
   "display_name": ".venv",
   "language": "python",
   "name": "python3"
  },
  "language_info": {
   "codemirror_mode": {
    "name": "ipython",
    "version": 3
   },
   "file_extension": ".py",
   "mimetype": "text/x-python",
   "name": "python",
   "nbconvert_exporter": "python",
   "pygments_lexer": "ipython3",
   "version": "3.10.12"
  }
 },
 "nbformat": 4,
 "nbformat_minor": 2
}
