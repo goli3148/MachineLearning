{
  "nbformat": 4,
  "nbformat_minor": 0,
  "metadata": {
    "colab": {
      "provenance": []
    },
    "kernelspec": {
      "name": "python3",
      "display_name": "Python 3"
    },
    "language_info": {
      "name": "python"
    }
  },
  "cells": [
    {
      "cell_type": "code",
      "source": [
        "import tensorflow as tf\n",
        "print(tf.__version__)"
      ],
      "metadata": {
        "colab": {
          "base_uri": "https://localhost:8080/"
        },
        "id": "bo_R5iCS_bw5",
        "outputId": "f0c6b98a-f1dc-4177-b21a-cc121717f465"
      },
      "execution_count": null,
      "outputs": [
        {
          "output_type": "stream",
          "name": "stdout",
          "text": [
            "2.15.0\n"
          ]
        }
      ]
    },
    {
      "cell_type": "code",
      "execution_count": null,
      "metadata": {
        "id": "zZOPEoUr1FQu"
      },
      "outputs": [],
      "source": [
        "# Auto Encoder\n",
        "\n",
        "from tensorflow.keras.datasets import mnist\n",
        "import tensorflow as tf\n",
        "from tensorflow.keras import layers, losses\n",
        "from tensorflow.keras.models import Model\n",
        "import numpy as np\n",
        "import matplotlib.pyplot as plt\n",
        "from sklearn.preprocessing import StandardScaler\n",
        "\n",
        "from sklearn.manifold import LocallyLinearEmbedding\n",
        "\n",
        "tf.config.run_functions_eagerly(False)\n",
        "\n",
        "class Autoencoder(Model):\n",
        "  def __init__(self, latent_dim, shape):\n",
        "    super(Autoencoder, self).__init__()\n",
        "    self.latent_dim = latent_dim\n",
        "    self.shape = shape\n",
        "    self.encoder = tf.keras.Sequential([\n",
        "      layers.Flatten(),\n",
        "      layers.Dense(latent_dim*4, activation='relu'),\n",
        "      layers.Dense(latent_dim*2, activation='relu'),\n",
        "      layers.Dense(latent_dim, activation='relu')\n",
        "    ])\n",
        "    self.decoder = tf.keras.Sequential([\n",
        "        layers.Dense(latent_dim*2, activation='relu'),\n",
        "        layers.Dense(latent_dim*4, activation='relu'),\n",
        "        layers.Dense(tf.math.reduce_prod(shape), activation='sigmoid'),\n",
        "        layers.Reshape(target_shape=shape)\n",
        "    ])\n",
        "\n",
        "  def call(self, x):\n",
        "    encoded = self.encoder(x)\n",
        "    decoded = self.decoder(encoded)\n",
        "    return decoded"
      ]
    },
    {
      "cell_type": "code",
      "source": [
        "\n",
        "class combine_loss():\n",
        "  def __init__(self):\n",
        "    self.Global_Index = 0\n",
        "\n",
        "  def combined_loss(self, y_true, y_pred, autoencoder, X_transformed):\n",
        "    # Reconstruction loss (MSE)\n",
        "    reconstruction_loss = tf.reduce_mean(tf.square(y_true - y_pred))\n",
        "\n",
        "    # Get the latent representation from the autoencoder\n",
        "    encoded_data = autoencoder.encoder(y_true)\n",
        "\n",
        "    # Calculate the MSE between the latent representation and the transformed data\n",
        "    lle_loss = tf.reduce_mean(tf.square(encoded_data - X_transformed[self.Global_Index:self.Global_Index+10]))\n",
        "\n",
        "    self.Global_Index = 10 + self.Global_Index if self.Global_Index < 191 else 0\n",
        "\n",
        "    # Combine both losses with some weighting\n",
        "    total_loss = 5*reconstruction_loss + lle_loss\n",
        "    return total_loss\n"
      ],
      "metadata": {
        "id": "Llq7896n2ZrR"
      },
      "execution_count": null,
      "outputs": []
    },
    {
      "cell_type": "code",
      "source": [
        "# Load MNIST data\n",
        "(x_train, y_train), (_, _) = mnist.load_data()\n",
        "\n",
        "# sorted_indices = np.argsort(y_train)\n",
        "# x_train = x_train[sorted_indices]\n",
        "# y_train = y_train[sorted_indices]\n",
        "\n",
        "# selected_indices = []\n",
        "# classes_seen = np.zeros(10, dtype=int)\n",
        "\n",
        "# for i, label in enumerate(y_train):\n",
        "#     if classes_seen[label] < 10:\n",
        "#         selected_indices.append(i)\n",
        "#         classes_seen[label] += 1\n",
        "#     if all(count == 10 for count in classes_seen):\n",
        "#         break\n",
        "\n",
        "# x_train = x_train[selected_indices]\n",
        "# selected_y = y_train[selected_indices]\n",
        "\n",
        "\n",
        "random_indices = np.random.choice(len(x_train), size=1000, replace=False)\n",
        "x_train = x_train[random_indices]\n",
        "\n",
        "print(x_train.shape)\n",
        "\n",
        "x_train = x_train.astype('float32') / 255.\n",
        "\n",
        "\n",
        "shape = x_train.shape[1:]\n",
        "latent_dim = 350\n",
        "latent_dim_sqrt = 8\n",
        "\n",
        "lle = LocallyLinearEmbedding(n_components=latent_dim, n_neighbors=1)\n",
        "X_lle = x_train.reshape(len(x_train), -1)\n",
        "X_transformed = lle.fit_transform(X_lle)\n",
        "\n",
        "custom_loss_ = combine_loss()\n",
        "\n",
        "autoencoder = Autoencoder(latent_dim, shape)\n",
        "autoencoder.compile(optimizer='adam', loss=lambda y_true, y_pred: custom_loss_.combined_loss(y_true, y_pred, autoencoder, X_transformed))\n",
        "autoencoder.fit(x_train, x_train,\n",
        "                epochs=10,\n",
        "                shuffle=True,\n",
        "                validation_data=(x_train,x_train), batch_size=10)\n",
        "\n",
        "encoded_imgs = autoencoder.encoder(x_train).numpy()\n",
        "decoded_imgs = autoencoder.decoder(encoded_imgs).numpy()\n",
        "decoded_lle = autoencoder.decoder(X_transformed).numpy()"
      ],
      "metadata": {
        "colab": {
          "base_uri": "https://localhost:8080/"
        },
        "id": "ELFB8lCk2cZM",
        "outputId": "72c6af6d-8bf5-401d-8fe4-d6aa16667b54"
      },
      "execution_count": null,
      "outputs": [
        {
          "output_type": "stream",
          "name": "stdout",
          "text": [
            "(1000, 28, 28)\n",
            "Epoch 1/10\n",
            "100/100 [==============================] - 18s 147ms/step - loss: 0.3641 - val_loss: 0.2790\n",
            "Epoch 2/10\n",
            "100/100 [==============================] - 16s 158ms/step - loss: 0.2417 - val_loss: 0.2144\n",
            "Epoch 3/10\n",
            "100/100 [==============================] - 8s 78ms/step - loss: 0.2046 - val_loss: 0.1841\n",
            "Epoch 4/10\n",
            "100/100 [==============================] - 9s 85ms/step - loss: 0.1818 - val_loss: 0.1693\n",
            "Epoch 5/10\n",
            "100/100 [==============================] - 7s 72ms/step - loss: 0.1666 - val_loss: 0.1530\n",
            "Epoch 6/10\n",
            "100/100 [==============================] - 8s 80ms/step - loss: 0.1553 - val_loss: 0.1453\n",
            "Epoch 7/10\n",
            "100/100 [==============================] - 9s 86ms/step - loss: 0.1447 - val_loss: 0.1318\n",
            "Epoch 8/10\n",
            "100/100 [==============================] - 7s 73ms/step - loss: 0.1358 - val_loss: 0.1274\n",
            "Epoch 9/10\n",
            "100/100 [==============================] - 8s 79ms/step - loss: 0.1275 - val_loss: 0.1173\n",
            "Epoch 10/10\n",
            "100/100 [==============================] - 7s 69ms/step - loss: 0.1224 - val_loss: 0.1146\n"
          ]
        }
      ]
    },
    {
      "cell_type": "code",
      "source": [
        "plt.subplot(1, 2, 1)\n",
        "plt.scatter(encoded_imgs[:,1], encoded_imgs[:,2])\n",
        "plt.subplot(1, 2, 2)\n",
        "plt.scatter(X_transformed[:,0], X_transformed[:,1])\n",
        "plt.show()"
      ],
      "metadata": {
        "id": "j0LNExJBlYuN"
      },
      "execution_count": null,
      "outputs": []
    },
    {
      "cell_type": "code",
      "source": [
        "index = 25\n",
        "plt.subplot(1, 3, 1)\n",
        "plt.imshow(x_train[index], cmap='gray')\n",
        "plt.subplot(1, 3, 2)\n",
        "plt.imshow(decoded_imgs[index].reshape(28, 28), cmap='gray')\n",
        "plt.subplot(1, 3, 3)\n",
        "plt.imshow(decoded_lle[index].reshape(28, 28), cmap='gray')\n",
        "plt.show()"
      ],
      "metadata": {
        "colab": {
          "base_uri": "https://localhost:8080/",
          "height": 209
        },
        "id": "RWwjkVEtbhTO",
        "outputId": "a0cf723b-68b3-4ab1-c6bb-82c6ce3d1431"
      },
      "execution_count": null,
      "outputs": [
        {
          "output_type": "display_data",
          "data": {
            "text/plain": [
              "<Figure size 640x480 with 3 Axes>"
            ],
            "image/png": "[encoded data removed]"
          },
          "metadata": {}
        }
      ]
    }
  ]
}