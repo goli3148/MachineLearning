{
 "cells": [
  {
   "cell_type": "code",
   "execution_count": 161,
   "metadata": {},
   "outputs": [],
   "source": [
    "import numpy as np\n",
    "import matplotlib.pyplot as plt\n",
    "# import warnings\n",
    "# warnings.filterwarnings('ignore')"
   ]
  },
  {
   "cell_type": "code",
   "execution_count": 162,
   "metadata": {},
   "outputs": [],
   "source": [
    "def initialize_membership_matrix(num_samples, num_clusters):\n",
    "    membership_mat = np.random.rand(num_clusters, num_samples)\n",
    "    membership_mat /= np.sum(membership_mat, axis=0)\n",
    "    return membership_mat\n",
    "\n",
    "def initial_centroids(num_clusters, num_features):\n",
    "    return np.random.rand(num_clusters, num_features)\n",
    "    "
   ]
  },
  {
   "cell_type": "code",
   "execution_count": 163,
   "metadata": {},
   "outputs": [],
   "source": [
    "def epsilon_insensitive_loss(y_true, y_pred, epsilon):\n",
    "    # Calculate absolute errors\n",
    "    errors = np.abs(y_true - y_pred)\n",
    "    # Apply epsilon-insensitive penalty\n",
    "    loss = np.maximum(0, errors - epsilon)\n",
    "    return np.mean(loss)"
   ]
  },
  {
   "cell_type": "code",
   "execution_count": 164,
   "metadata": {},
   "outputs": [],
   "source": [
    "def update_membership_matrix(data, centroids, num_clusters, epsilon, m):\n",
    "    # Update the membership matrix\n",
    "    num_samples = data.shape[0]\n",
    "    membership_mat = np.zeros((num_clusters, num_samples)).astype('float128')\n",
    "    for i in range(num_samples):\n",
    "        denominator = np.sum(epsilon_insensitive_loss(data[i], centroids, epsilon)**(1/(1-m))) \n",
    "        for k in range(num_clusters):\n",
    "            membership_mat[k, i] = (epsilon_insensitive_loss(data[i], centroids[k], epsilon) ** (1/(1-m))) / (denominator + 1e-8)\n",
    "            if np.isinf(membership_mat[k, i]):\n",
    "                membership_mat[k, i] = 1\n",
    "    membership_mat /= np.sum(membership_mat, axis=0)\n",
    "    return membership_mat"
   ]
  },
  {
   "cell_type": "code",
   "execution_count": 165,
   "metadata": {},
   "outputs": [],
   "source": [
    "from scipy.optimize import minimize\n",
    "\n",
    "\n",
    "EPSILON = .01\n",
    "DATA = None\n",
    "L    = None\n",
    "\n",
    "\n",
    "def objective(x):\n",
    "    global EPSILON \n",
    "    global DATA\n",
    "    global L\n",
    "    a = x[:len(x)//2]\n",
    "    b = x[len(x)//2:]\n",
    "    temp = 0\n",
    "    for k in range(len(a)):\n",
    "        temp += (a[k] - b[k])*DATA[k,L]\n",
    "    return temp + sum(a + b) * EPSILON\n",
    "\n",
    "def constraint(x):\n",
    "    a = x[:len(x)//2]\n",
    "    b = x[len(x)//2:]\n",
    "    return sum(a) - sum(b)\n",
    "\n",
    "def Lambda(num_samples, membership_mat, i_index, m):\n",
    "    initial_guess = [0.] * num_samples*2\n",
    "    bounds_a = [(0, membership_mat[i_index, j]**m) for j in range(num_samples)]\n",
    "    bounds_b = [(0, membership_mat[i_index, j]**m) for j in range(num_samples)]\n",
    "    bounds = np.concatenate((bounds_a, bounds_b))\n",
    "    constraint_eq = {'type': 'eq', 'fun': constraint}\n",
    "    result = minimize(objective, initial_guess, bounds=bounds, constraints=constraint_eq, method='SLSQP')\n",
    "\n",
    "    return result.x[:len(result.x)//2], result.x[len(result.x)//2:]\n",
    "\n",
    "def update_centroid(data, num_samples, num_features, num_clusters, centroids, epsilon, membership_mat, m, alpah):\n",
    "    global EPSILON, DATA, L\n",
    "    EPSILON = epsilon\n",
    "    DATA = data\n",
    "    for i in range(num_clusters):\n",
    "        for j in range(num_features):\n",
    "            L = j\n",
    "            l1, l2 = Lambda(num_samples, membership_mat, i, m)\n",
    "            f, s = 0., 0.\n",
    "            for ns in range(num_samples):\n",
    "                if 0<l1[ns]<membership_mat[i, ns]:\n",
    "                    f += data[ns][j] + epsilon\n",
    "                if 0<l2[ns]<membership_mat[i, ns]:\n",
    "                    s += data[ns][j] - epsilon\n",
    "            # print(f, end=\":\")\n",
    "            # print(s)\n",
    "            centroids[i][j] = alpah * (f+s) / np.unique(np.concatenate((l1, l2))).shape[0] + (1-alpah) * centroids[i][j]\n",
    "    \n",
    "    return centroids\n",
    "        "
   ]
  },
  {
   "cell_type": "code",
   "execution_count": 166,
   "metadata": {},
   "outputs": [],
   "source": [
    "from sklearn.metrics import normalized_mutual_info_score\n",
    "\n",
    "def fuzzy_cmeans(data, num_clusters, max_iter, epsilon, m, y=None, alpha=.5):\n",
    "    history_mem, history_cent, history_nmi = [], [], []\n",
    "    num_samples, num_features = data.shape\n",
    "    cen_mat = initial_centroids(num_clusters, num_features)\n",
    "    for _ in range(max_iter):\n",
    "        print(_, end=':')\n",
    "        mem_mat = update_membership_matrix(data, cen_mat, num_clusters, epsilon, m)\n",
    "        cen_mat = update_centroid(data, num_samples, num_features, num_clusters, cen_mat, epsilon, mem_mat, m, alpah=.5)\n",
    "        if y is not None:\n",
    "            max_membership_cluster = np.argmax(mem_mat, axis=0)\n",
    "            nmi = normalized_mutual_info_score(y, max_membership_cluster)\n",
    "            history_mem.append(mem_mat)\n",
    "            history_cent.append(cen_mat)\n",
    "            history_nmi.append(nmi)\n",
    "            # if nmi > .9:\n",
    "            #     return cen_mat, mem_mat\n",
    "            print(\"Normalized Mutual Information (NMI):\", nmi)\n",
    "    \n",
    "    max_index = np.argmax(history_nmi)\n",
    "    print(cen_mat)\n",
    "    print(mem_mat)\n",
    "    return history_cent[max_index], history_mem[max_index]\n",
    "        "
   ]
  },
  {
   "cell_type": "code",
   "execution_count": 167,
   "metadata": {},
   "outputs": [
    {
     "data": {
      "image/png": "[encoded data removed]",
      "text/plain": [
       "<Figure size 640x480 with 1 Axes>"
      ]
     },
     "metadata": {},
     "output_type": "display_data"
    },
    {
     "name": "stdout",
     "output_type": "stream",
     "text": [
      "0:"
     ]
    },
    {
     "name": "stderr",
     "output_type": "stream",
     "text": [
      "/tmp/ipykernel_7809/3481851007.py:8: RuntimeWarning: divide by zero encountered in scalar power\n",
      "  membership_mat[k, i] = (epsilon_insensitive_loss(data[i], centroids[k], epsilon) ** (1/(1-m))) / (denominator + 1e-8)\n"
     ]
    },
    {
     "name": "stdout",
     "output_type": "stream",
     "text": [
      "Normalized Mutual Information (NMI): 0.1286270532086794\n",
      "1:Normalized Mutual Information (NMI): 0.32956754771499586\n",
      "2:"
     ]
    },
    {
     "name": "stderr",
     "output_type": "stream",
     "text": [
      "/tmp/ipykernel_7809/3481851007.py:6: RuntimeWarning: divide by zero encountered in scalar power\n",
      "  denominator = np.sum(epsilon_insensitive_loss(data[i], centroids, epsilon)**(1/(1-m)))\n",
      "/tmp/ipykernel_7809/3481851007.py:8: RuntimeWarning: divide by zero encountered in scalar power\n",
      "  membership_mat[k, i] = (epsilon_insensitive_loss(data[i], centroids[k], epsilon) ** (1/(1-m))) / (denominator + 1e-8)\n",
      "/tmp/ipykernel_7809/3481851007.py:8: RuntimeWarning: invalid value encountered in scalar divide\n",
      "  membership_mat[k, i] = (epsilon_insensitive_loss(data[i], centroids[k], epsilon) ** (1/(1-m))) / (denominator + 1e-8)\n"
     ]
    },
    {
     "name": "stdout",
     "output_type": "stream",
     "text": [
      "Normalized Mutual Information (NMI): 0.5018243044413268\n",
      "3:"
     ]
    },
    {
     "name": "stderr",
     "output_type": "stream",
     "text": [
      "/tmp/ipykernel_7809/3481851007.py:6: RuntimeWarning: divide by zero encountered in scalar power\n",
      "  denominator = np.sum(epsilon_insensitive_loss(data[i], centroids, epsilon)**(1/(1-m)))\n",
      "/tmp/ipykernel_7809/3481851007.py:8: RuntimeWarning: divide by zero encountered in scalar power\n",
      "  membership_mat[k, i] = (epsilon_insensitive_loss(data[i], centroids[k], epsilon) ** (1/(1-m))) / (denominator + 1e-8)\n",
      "/tmp/ipykernel_7809/3481851007.py:8: RuntimeWarning: invalid value encountered in scalar divide\n",
      "  membership_mat[k, i] = (epsilon_insensitive_loss(data[i], centroids[k], epsilon) ** (1/(1-m))) / (denominator + 1e-8)\n"
     ]
    },
    {
     "name": "stdout",
     "output_type": "stream",
     "text": [
      "Normalized Mutual Information (NMI): 0.6005133421518671\n",
      "4:Normalized Mutual Information (NMI): 0.437033346749649\n",
      "5:Normalized Mutual Information (NMI): 0.6404572766181806\n",
      "6:"
     ]
    },
    {
     "name": "stderr",
     "output_type": "stream",
     "text": [
      "/tmp/ipykernel_7809/3481851007.py:8: RuntimeWarning: divide by zero encountered in scalar power\n",
      "  membership_mat[k, i] = (epsilon_insensitive_loss(data[i], centroids[k], epsilon) ** (1/(1-m))) / (denominator + 1e-8)\n"
     ]
    },
    {
     "name": "stdout",
     "output_type": "stream",
     "text": [
      "Normalized Mutual Information (NMI): 0.4898395666958091\n",
      "7:"
     ]
    },
    {
     "name": "stderr",
     "output_type": "stream",
     "text": [
      "/tmp/ipykernel_7809/3481851007.py:6: RuntimeWarning: divide by zero encountered in scalar power\n",
      "  denominator = np.sum(epsilon_insensitive_loss(data[i], centroids, epsilon)**(1/(1-m)))\n",
      "/tmp/ipykernel_7809/3481851007.py:8: RuntimeWarning: divide by zero encountered in scalar power\n",
      "  membership_mat[k, i] = (epsilon_insensitive_loss(data[i], centroids[k], epsilon) ** (1/(1-m))) / (denominator + 1e-8)\n",
      "/tmp/ipykernel_7809/3481851007.py:8: RuntimeWarning: invalid value encountered in scalar divide\n",
      "  membership_mat[k, i] = (epsilon_insensitive_loss(data[i], centroids[k], epsilon) ** (1/(1-m))) / (denominator + 1e-8)\n"
     ]
    },
    {
     "name": "stdout",
     "output_type": "stream",
     "text": [
      "Normalized Mutual Information (NMI): 0.6741782723106622\n",
      "8:Normalized Mutual Information (NMI): 0.6031560771352453\n",
      "9:"
     ]
    },
    {
     "name": "stderr",
     "output_type": "stream",
     "text": [
      "/tmp/ipykernel_7809/3481851007.py:6: RuntimeWarning: divide by zero encountered in scalar power\n",
      "  denominator = np.sum(epsilon_insensitive_loss(data[i], centroids, epsilon)**(1/(1-m)))\n",
      "/tmp/ipykernel_7809/3481851007.py:8: RuntimeWarning: divide by zero encountered in scalar power\n",
      "  membership_mat[k, i] = (epsilon_insensitive_loss(data[i], centroids[k], epsilon) ** (1/(1-m))) / (denominator + 1e-8)\n",
      "/tmp/ipykernel_7809/3481851007.py:8: RuntimeWarning: invalid value encountered in scalar divide\n",
      "  membership_mat[k, i] = (epsilon_insensitive_loss(data[i], centroids[k], epsilon) ** (1/(1-m))) / (denominator + 1e-8)\n"
     ]
    },
    {
     "name": "stdout",
     "output_type": "stream",
     "text": [
      "Normalized Mutual Information (NMI): 0.5968540328557185\n",
      "10:"
     ]
    },
    {
     "name": "stderr",
     "output_type": "stream",
     "text": [
      "/tmp/ipykernel_7809/3481851007.py:8: RuntimeWarning: divide by zero encountered in scalar power\n",
      "  membership_mat[k, i] = (epsilon_insensitive_loss(data[i], centroids[k], epsilon) ** (1/(1-m))) / (denominator + 1e-8)\n"
     ]
    },
    {
     "name": "stdout",
     "output_type": "stream",
     "text": [
      "Normalized Mutual Information (NMI): 0.6834543840784485\n",
      "11:"
     ]
    },
    {
     "name": "stderr",
     "output_type": "stream",
     "text": [
      "/tmp/ipykernel_7809/3481851007.py:6: RuntimeWarning: divide by zero encountered in scalar power\n",
      "  denominator = np.sum(epsilon_insensitive_loss(data[i], centroids, epsilon)**(1/(1-m)))\n",
      "/tmp/ipykernel_7809/3481851007.py:8: RuntimeWarning: divide by zero encountered in scalar power\n",
      "  membership_mat[k, i] = (epsilon_insensitive_loss(data[i], centroids[k], epsilon) ** (1/(1-m))) / (denominator + 1e-8)\n",
      "/tmp/ipykernel_7809/3481851007.py:8: RuntimeWarning: invalid value encountered in scalar divide\n",
      "  membership_mat[k, i] = (epsilon_insensitive_loss(data[i], centroids[k], epsilon) ** (1/(1-m))) / (denominator + 1e-8)\n"
     ]
    },
    {
     "name": "stdout",
     "output_type": "stream",
     "text": [
      "Normalized Mutual Information (NMI): 0.6741782723106622\n",
      "12:Normalized Mutual Information (NMI): 0.5407780067798014\n",
      "13:"
     ]
    },
    {
     "name": "stderr",
     "output_type": "stream",
     "text": [
      "/tmp/ipykernel_7809/3481851007.py:6: RuntimeWarning: divide by zero encountered in scalar power\n",
      "  denominator = np.sum(epsilon_insensitive_loss(data[i], centroids, epsilon)**(1/(1-m)))\n",
      "/tmp/ipykernel_7809/3481851007.py:8: RuntimeWarning: divide by zero encountered in scalar power\n",
      "  membership_mat[k, i] = (epsilon_insensitive_loss(data[i], centroids[k], epsilon) ** (1/(1-m))) / (denominator + 1e-8)\n",
      "/tmp/ipykernel_7809/3481851007.py:8: RuntimeWarning: invalid value encountered in scalar divide\n",
      "  membership_mat[k, i] = (epsilon_insensitive_loss(data[i], centroids[k], epsilon) ** (1/(1-m))) / (denominator + 1e-8)\n"
     ]
    },
    {
     "name": "stdout",
     "output_type": "stream",
     "text": [
      "Normalized Mutual Information (NMI): 0.44432855399579424\n",
      "14:"
     ]
    },
    {
     "name": "stderr",
     "output_type": "stream",
     "text": [
      "/tmp/ipykernel_7809/3481851007.py:8: RuntimeWarning: divide by zero encountered in scalar power\n",
      "  membership_mat[k, i] = (epsilon_insensitive_loss(data[i], centroids[k], epsilon) ** (1/(1-m))) / (denominator + 1e-8)\n"
     ]
    },
    {
     "name": "stdout",
     "output_type": "stream",
     "text": [
      "Normalized Mutual Information (NMI): 0.4197414742197238\n",
      "15:"
     ]
    },
    {
     "name": "stderr",
     "output_type": "stream",
     "text": [
      "/tmp/ipykernel_7809/3481851007.py:6: RuntimeWarning: divide by zero encountered in scalar power\n",
      "  denominator = np.sum(epsilon_insensitive_loss(data[i], centroids, epsilon)**(1/(1-m)))\n",
      "/tmp/ipykernel_7809/3481851007.py:8: RuntimeWarning: divide by zero encountered in scalar power\n",
      "  membership_mat[k, i] = (epsilon_insensitive_loss(data[i], centroids[k], epsilon) ** (1/(1-m))) / (denominator + 1e-8)\n",
      "/tmp/ipykernel_7809/3481851007.py:8: RuntimeWarning: invalid value encountered in scalar divide\n",
      "  membership_mat[k, i] = (epsilon_insensitive_loss(data[i], centroids[k], epsilon) ** (1/(1-m))) / (denominator + 1e-8)\n"
     ]
    },
    {
     "name": "stdout",
     "output_type": "stream",
     "text": [
      "Normalized Mutual Information (NMI): 0.5968540328557185\n",
      "16:Normalized Mutual Information (NMI): 0.5407780067798014\n",
      "17:"
     ]
    },
    {
     "name": "stderr",
     "output_type": "stream",
     "text": [
      "/tmp/ipykernel_7809/3481851007.py:6: RuntimeWarning: divide by zero encountered in scalar power\n",
      "  denominator = np.sum(epsilon_insensitive_loss(data[i], centroids, epsilon)**(1/(1-m)))\n",
      "/tmp/ipykernel_7809/3481851007.py:8: RuntimeWarning: divide by zero encountered in scalar power\n",
      "  membership_mat[k, i] = (epsilon_insensitive_loss(data[i], centroids[k], epsilon) ** (1/(1-m))) / (denominator + 1e-8)\n",
      "/tmp/ipykernel_7809/3481851007.py:8: RuntimeWarning: invalid value encountered in scalar divide\n",
      "  membership_mat[k, i] = (epsilon_insensitive_loss(data[i], centroids[k], epsilon) ** (1/(1-m))) / (denominator + 1e-8)\n"
     ]
    },
    {
     "name": "stdout",
     "output_type": "stream",
     "text": [
      "Normalized Mutual Information (NMI): 0.63147067547324\n",
      "18:"
     ]
    },
    {
     "name": "stderr",
     "output_type": "stream",
     "text": [
      "/tmp/ipykernel_7809/3481851007.py:8: RuntimeWarning: divide by zero encountered in scalar power\n",
      "  membership_mat[k, i] = (epsilon_insensitive_loss(data[i], centroids[k], epsilon) ** (1/(1-m))) / (denominator + 1e-8)\n"
     ]
    },
    {
     "name": "stdout",
     "output_type": "stream",
     "text": [
      "Normalized Mutual Information (NMI): 0.7040313737239762\n",
      "19:"
     ]
    },
    {
     "name": "stderr",
     "output_type": "stream",
     "text": [
      "/tmp/ipykernel_7809/3481851007.py:6: RuntimeWarning: divide by zero encountered in scalar power\n",
      "  denominator = np.sum(epsilon_insensitive_loss(data[i], centroids, epsilon)**(1/(1-m)))\n",
      "/tmp/ipykernel_7809/3481851007.py:8: RuntimeWarning: divide by zero encountered in scalar power\n",
      "  membership_mat[k, i] = (epsilon_insensitive_loss(data[i], centroids[k], epsilon) ** (1/(1-m))) / (denominator + 1e-8)\n",
      "/tmp/ipykernel_7809/3481851007.py:8: RuntimeWarning: invalid value encountered in scalar divide\n",
      "  membership_mat[k, i] = (epsilon_insensitive_loss(data[i], centroids[k], epsilon) ** (1/(1-m))) / (denominator + 1e-8)\n",
      "/media/mrj/documents/AI/MachineLearning/.venv/lib/python3.10/site-packages/scipy/optimize/_slsqp_py.py:437: RuntimeWarning: Values in x were outside bounds during a minimize step, clipping to bounds\n",
      "  fx = wrapped_fun(x)\n",
      "/media/mrj/documents/AI/MachineLearning/.venv/lib/python3.10/site-packages/scipy/optimize/_slsqp_py.py:441: RuntimeWarning: Values in x were outside bounds during a minimize step, clipping to bounds\n",
      "  g = append(wrapped_grad(x), 0.0)\n",
      "/media/mrj/documents/AI/MachineLearning/.venv/lib/python3.10/site-packages/scipy/optimize/_slsqp_py.py:495: RuntimeWarning: Values in x were outside bounds during a minimize step, clipping to bounds\n",
      "  a_eq = vstack([con['jac'](x, *con['args'])\n"
     ]
    },
    {
     "name": "stdout",
     "output_type": "stream",
     "text": [
      "Normalized Mutual Information (NMI): 0.5057486928579711\n",
      "[[ 7.42896307 10.80255298]\n",
      " [ 7.43423445 10.61429802]\n",
      " [ 7.47518261 10.73425277]]\n",
      "[[0.33589709 0.27204069 0.32380755 0.33796971 0.30664902 0.3251024\n",
      "         nan 0.3358151  0.31910158 0.3265404  0.34815452 0.32999867\n",
      "  0.32696449 0.32814069 0.33585501 0.35305941 0.32925606 0.33078662\n",
      "  0.32606015 0.33647907 0.34356186 0.32536449 0.26777186 0.33070871\n",
      "  0.3396764  0.32631353 0.33952822 0.33706122 0.32823259 0.33747405\n",
      "  0.32020486 0.32768761 0.33738694 0.32980413 0.35456266 0.29756703\n",
      "  0.34051428 0.33884135 0.32952298 0.32897732]\n",
      " [0.35358404 0.21649997 0.30888487 0.34717833 0.25816402 0.31196601\n",
      "         nan 0.35277884 0.29819119 0.33917152 0.38651183 0.33618964\n",
      "  0.3008866  0.30591626 0.3531688  0.41754732 0.31099157 0.33551305\n",
      "  0.31428786 0.35984373 0.36664057 0.29448687 0.19116159 0.31814958\n",
      "  0.35273423 0.31490847 0.35224022 0.34433198 0.3197     0.34561641\n",
      "  0.27641472 0.31832247 0.34534415 0.31361215 0.478347   0.58961814\n",
      "  0.35557252 0.34997998 0.3122566  0.3096923 ]\n",
      " [0.31051887 0.51145935 0.36730759 0.31485196 0.43518696 0.36293159\n",
      "         nan 0.31140605 0.38270724 0.33428808 0.26533365 0.33381169\n",
      "  0.37214892 0.36594305 0.31097619 0.22939327 0.35975237 0.33370033\n",
      "  0.35965198 0.3036772  0.28979757 0.38014864 0.54106655 0.35114171\n",
      "  0.30758937 0.358778   0.30823156 0.3186068  0.35206741 0.31690954\n",
      "  0.40338042 0.35398992 0.31726891 0.35658372 0.16709034 0.11281483\n",
      "  0.3039132  0.31117867 0.35822042 0.36133038]]\n"
     ]
    },
    {
     "data": {
      "image/png": "[encoded data removed]",
      "text/plain": [
       "<Figure size 800x600 with 1 Axes>"
      ]
     },
     "metadata": {},
     "output_type": "display_data"
    },
    {
     "name": "stdout",
     "output_type": "stream",
     "text": [
      "Normalized Mutual Information (NMI): 0.7040313737239762\n"
     ]
    }
   ],
   "source": [
    "from sklearn.datasets import make_blobs\n",
    "import matplotlib.pyplot as plt\n",
    "from sklearn.datasets import load_iris\n",
    "from sklearn.metrics import normalized_mutual_info_score\n",
    "\n",
    "\n",
    "\n",
    "num_clusters = 3\n",
    "num_samples = 40\n",
    "\n",
    "# Generate synthetic data with clusters\n",
    "X, y = make_blobs(n_samples=num_samples, centers=num_clusters, cluster_std=4, random_state=42)\n",
    "X += 10\n",
    "\n",
    "\n",
    "\n",
    "# Visualize the generated data\n",
    "plt.scatter(X[:, 0], X[:, 1], c=y, cmap='viridis', s=20)\n",
    "plt.title('Synthetic Data for Clustering')\n",
    "plt.xlabel('Feature 1')\n",
    "plt.ylabel('Feature 2')\n",
    "plt.show()\n",
    "\n",
    "\n",
    "centroids ,membership_mat = fuzzy_cmeans(data=X, num_clusters=num_clusters, max_iter=20, epsilon=1, m=1.1, y=y)\n",
    "\n",
    "max_membership_cluster = np.argmax(membership_mat, axis=0)\n",
    "# Plot data points with colors based on their corresponding centroids\n",
    "plt.figure(figsize=(8, 6))\n",
    "for i in range(num_clusters):\n",
    "    cluster_data = X[max_membership_cluster == i]\n",
    "    plt.scatter(cluster_data[:, 0], cluster_data[:, 1], label=f'Cluster {i}', alpha=0.6)\n",
    "plt.scatter(centroids[:, 0], centroids[:, 1], c='red', marker='x', s=100, label='Centroids')\n",
    "plt.title('Data Points Colored by Dominant Cluster')\n",
    "plt.xlabel('X')\n",
    "plt.ylabel('Y')\n",
    "plt.legend()\n",
    "plt.grid(True)\n",
    "plt.show()\n",
    "# Assuming 'y' contains the true cluster labels and 'max_membership_cluster' contains the cluster labels assigned by your fuzzy clustering algorithm\n",
    "nmi = normalized_mutual_info_score(y, max_membership_cluster)\n",
    "print(\"Normalized Mutual Information (NMI):\", nmi)"
   ]
  }
 ],
 "metadata": {
  "kernelspec": {
   "display_name": ".venv",
   "language": "python",
   "name": "python3"
  },
  "language_info": {
   "codemirror_mode": {
    "name": "ipython",
    "version": 3
   },
   "file_extension": ".py",
   "mimetype": "text/x-python",
   "name": "python",
   "nbconvert_exporter": "python",
   "pygments_lexer": "ipython3",
   "version": "3.10.12"
  }
 },
 "nbformat": 4,
 "nbformat_minor": 2
}
